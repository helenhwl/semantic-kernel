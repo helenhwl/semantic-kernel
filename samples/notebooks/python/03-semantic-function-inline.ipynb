{
 "cells": [
  {
   "attachments": {},
   "cell_type": "markdown",
   "id": "3c93ac5b",
   "metadata": {},
   "source": [
    "# Running Semantic Functions Inline"
   ]
  },
  {
   "attachments": {},
   "cell_type": "markdown",
   "id": "ebcabb91",
   "metadata": {},
   "source": []
  },
  {
   "attachments": {},
   "cell_type": "markdown",
   "id": "40201641",
   "metadata": {},
   "source": [
    "The [previous notebook](./02-running-prompts-from-file.ipynb)\n",
    "showed how to define a semantic function using a prompt template stored on a file.\n",
    "\n",
    "In this notebook, we'll show how to use the Semantic Kernel to define functions inline with your python code. This can be useful in a few scenarios:\n",
    "\n",
    "* Dynamically generating the prompt using complex rules at runtime\n",
    "* Writing prompts by editing Python code instead of TXT files.\n",
    "* Easily creating demos, like this document\n",
    "\n",
    "Prompt templates are defined using the SK template language, which allows to reference variables and functions. Read [this doc](https://aka.ms/sk/howto/configurefunction) to learn more about the design decisions for prompt templating. \n",
    "\n",
    "For now we'll use only the `{{$input}}` variable, and see more complex templates later.\n",
    "\n",
    "Almost all semantic function prompts have a reference to `{{$input}}`, which is the default way\n",
    "a user can import content from the context variables."
   ]
  },
  {
   "attachments": {},
   "cell_type": "markdown",
   "id": "d90b0c13",
   "metadata": {},
   "source": [
    "Prepare a semantic kernel instance first, loading also the AI service settings defined in the [Setup notebook](00-getting-started.ipynb):"
   ]
  },
  {
   "cell_type": "code",
   "execution_count": 37,
   "id": "1da651d4",
   "metadata": {},
   "outputs": [
    {
     "name": "stdout",
     "output_type": "stream",
     "text": [
      "Requirement already satisfied: semantic-kernel==0.3.1.dev0 in c:\\users\\wenhua.fareast\\appdata\\local\\programs\\python\\python311\\lib\\site-packages (0.3.1.dev0)\n",
      "Requirement already satisfied: aiofiles<24.0.0,>=23.1.0 in c:\\users\\wenhua.fareast\\appdata\\local\\programs\\python\\python311\\lib\\site-packages (from semantic-kernel==0.3.1.dev0) (23.1.0)\n",
      "Requirement already satisfied: numpy<2.0.0,>=1.24.2 in c:\\users\\wenhua.fareast\\appdata\\local\\programs\\python\\python311\\lib\\site-packages (from semantic-kernel==0.3.1.dev0) (1.25.1)\n",
      "Requirement already satisfied: openai<0.28.0,>=0.27.0 in c:\\users\\wenhua.fareast\\appdata\\local\\programs\\python\\python311\\lib\\site-packages (from semantic-kernel==0.3.1.dev0) (0.27.8)\n",
      "Requirement already satisfied: python-dotenv==1.0.0 in c:\\users\\wenhua.fareast\\appdata\\local\\programs\\python\\python311\\lib\\site-packages (from semantic-kernel==0.3.1.dev0) (1.0.0)\n",
      "Requirement already satisfied: requests>=2.20 in c:\\users\\wenhua.fareast\\appdata\\local\\programs\\python\\python311\\lib\\site-packages (from openai<0.28.0,>=0.27.0->semantic-kernel==0.3.1.dev0) (2.28.2)\n",
      "Requirement already satisfied: tqdm in c:\\users\\wenhua.fareast\\appdata\\local\\programs\\python\\python311\\lib\\site-packages (from openai<0.28.0,>=0.27.0->semantic-kernel==0.3.1.dev0) (4.64.1)\n",
      "Requirement already satisfied: aiohttp in c:\\users\\wenhua.fareast\\appdata\\local\\programs\\python\\python311\\lib\\site-packages (from openai<0.28.0,>=0.27.0->semantic-kernel==0.3.1.dev0) (3.8.4)\n",
      "Requirement already satisfied: charset-normalizer<4,>=2 in c:\\users\\wenhua.fareast\\appdata\\local\\programs\\python\\python311\\lib\\site-packages (from requests>=2.20->openai<0.28.0,>=0.27.0->semantic-kernel==0.3.1.dev0) (3.0.1)\n",
      "Requirement already satisfied: idna<4,>=2.5 in c:\\users\\wenhua.fareast\\appdata\\local\\programs\\python\\python311\\lib\\site-packages (from requests>=2.20->openai<0.28.0,>=0.27.0->semantic-kernel==0.3.1.dev0) (3.4)\n",
      "Requirement already satisfied: urllib3<1.27,>=1.21.1 in c:\\users\\wenhua.fareast\\appdata\\local\\programs\\python\\python311\\lib\\site-packages (from requests>=2.20->openai<0.28.0,>=0.27.0->semantic-kernel==0.3.1.dev0) (1.26.14)\n",
      "Requirement already satisfied: certifi>=2017.4.17 in c:\\users\\wenhua.fareast\\appdata\\local\\programs\\python\\python311\\lib\\site-packages (from requests>=2.20->openai<0.28.0,>=0.27.0->semantic-kernel==0.3.1.dev0) (2022.12.7)\n",
      "Requirement already satisfied: attrs>=17.3.0 in c:\\users\\wenhua.fareast\\appdata\\local\\programs\\python\\python311\\lib\\site-packages (from aiohttp->openai<0.28.0,>=0.27.0->semantic-kernel==0.3.1.dev0) (22.2.0)\n",
      "Requirement already satisfied: multidict<7.0,>=4.5 in c:\\users\\wenhua.fareast\\appdata\\local\\programs\\python\\python311\\lib\\site-packages (from aiohttp->openai<0.28.0,>=0.27.0->semantic-kernel==0.3.1.dev0) (6.0.4)\n",
      "Requirement already satisfied: async-timeout<5.0,>=4.0.0a3 in c:\\users\\wenhua.fareast\\appdata\\local\\programs\\python\\python311\\lib\\site-packages (from aiohttp->openai<0.28.0,>=0.27.0->semantic-kernel==0.3.1.dev0) (4.0.2)\n",
      "Requirement already satisfied: yarl<2.0,>=1.0 in c:\\users\\wenhua.fareast\\appdata\\local\\programs\\python\\python311\\lib\\site-packages (from aiohttp->openai<0.28.0,>=0.27.0->semantic-kernel==0.3.1.dev0) (1.8.2)\n",
      "Requirement already satisfied: frozenlist>=1.1.1 in c:\\users\\wenhua.fareast\\appdata\\local\\programs\\python\\python311\\lib\\site-packages (from aiohttp->openai<0.28.0,>=0.27.0->semantic-kernel==0.3.1.dev0) (1.3.3)\n",
      "Requirement already satisfied: aiosignal>=1.1.2 in c:\\users\\wenhua.fareast\\appdata\\local\\programs\\python\\python311\\lib\\site-packages (from aiohttp->openai<0.28.0,>=0.27.0->semantic-kernel==0.3.1.dev0) (1.3.1)\n",
      "Requirement already satisfied: colorama in c:\\users\\wenhua.fareast\\appdata\\roaming\\python\\python311\\site-packages (from tqdm->openai<0.28.0,>=0.27.0->semantic-kernel==0.3.1.dev0) (0.4.6)\n"
     ]
    },
    {
     "name": "stderr",
     "output_type": "stream",
     "text": [
      "DEPRECATION: textract 1.6.5 has a non-standard dependency specifier extract-msg<=0.29.*. pip 23.3 will enforce this behaviour change. A possible replacement is to upgrade to a newer version of textract or contact the author to suggest that they release a version with a conforming dependency specifiers. Discussion can be found at https://github.com/pypa/pip/issues/12063\n"
     ]
    }
   ],
   "source": [
    "!python -m pip install semantic-kernel==0.3.1.dev0"
   ]
  },
  {
   "cell_type": "code",
   "execution_count": 38,
   "id": "3712b7c3",
   "metadata": {},
   "outputs": [
    {
     "name": "stdout",
     "output_type": "stream",
     "text": [
      "Using Azure OpenAI service\n",
      "Deployment:  gpt35turbo\n",
      "Endpoint:  https://llm-langchain.openai.azure.com/\n",
      "API Key:  9505541cb8204478b05c37c553dcd94d\n"
     ]
    }
   ],
   "source": [
    "import semantic_kernel as sk\n",
    "from semantic_kernel.connectors.ai.open_ai import AzureTextCompletion\n",
    "\n",
    "kernel = sk.Kernel()\n",
    "\n",
    "useAzureOpenAI = True\n",
    "\n",
    "# Configure AI service used by the kernel\n",
    "if useAzureOpenAI:\n",
    "    deployment, api_key, endpoint = sk.azure_openai_settings_from_dot_env()\n",
    "    kernel.add_text_completion_service(\"dv\", AzureTextCompletion(deployment, endpoint, api_key))\n",
    "    print(\"Using Azure OpenAI service\")\n",
    "    print(\"Deployment: \", deployment)\n",
    "    print(\"Endpoint: \", endpoint)\n",
    "    print(\"API Key: \", api_key)"
   ]
  },
  {
   "attachments": {},
   "cell_type": "markdown",
   "id": "589733c5",
   "metadata": {},
   "source": [
    "Let's use a prompt to create a semantic function used to summarize content, allowing for some creativity and a sufficient number of tokens.\n",
    "\n",
    "The function will take in input the text to summarize."
   ]
  },
  {
   "cell_type": "code",
   "execution_count": 39,
   "id": "ae29c207",
   "metadata": {},
   "outputs": [],
   "source": [
    "prompt = \"\"\"{{$input}}\n",
    "Summarize the content above.\n",
    "\"\"\"\n",
    "\n",
    "summarize = kernel.create_semantic_function(prompt, max_tokens=2000, temperature=0.2, top_p=0.5)"
   ]
  },
  {
   "attachments": {},
   "cell_type": "markdown",
   "id": "f26b90c4",
   "metadata": {},
   "source": [
    "Set up some content to summarize, here's an extract about Demo, an ancient Greek poet, taken from Wikipedia (https://en.wikipedia.org/wiki/Demo_(ancient_Greek_poet)."
   ]
  },
  {
   "cell_type": "code",
   "execution_count": 40,
   "id": "314557fb",
   "metadata": {},
   "outputs": [],
   "source": [
    "input_text = \"\"\"\n",
    "Demo (ancient Greek poet)\n",
    "From Wikipedia, the free encyclopedia\n",
    "Demo or Damo (Greek: Δεμώ, Δαμώ; fl. c. AD 200) was a Greek woman of the Roman period, known for a single epigram, engraved upon the Colossus of Memnon, which bears her name. She speaks of herself therein as a lyric poetess dedicated to the Muses, but nothing is known of her life.[1]\n",
    "Identity\n",
    "Demo was evidently Greek, as her name, a traditional epithet of Demeter, signifies. The name was relatively common in the Hellenistic world, in Egypt and elsewhere, and she cannot be further identified. The date of her visit to the Colossus of Memnon cannot be established with certainty, but internal evidence on the left leg suggests her poem was inscribed there at some point in or after AD 196.[2]\n",
    "Epigram\n",
    "There are a number of graffiti inscriptions on the Colossus of Memnon. Following three epigrams by Julia Balbilla, a fourth epigram, in elegiac couplets, entitled and presumably authored by \"Demo\" or \"Damo\" (the Greek inscription is difficult to read), is a dedication to the Muses.[2] The poem is traditionally published with the works of Balbilla, though the internal evidence suggests a different author.[1]\n",
    "In the poem, Demo explains that Memnon has shown her special respect. In return, Demo offers the gift for poetry, as a gift to the hero. At the end of this epigram, she addresses Memnon, highlighting his divine status by recalling his strength and holiness.[2]\n",
    "Demo, like Julia Balbilla, writes in the artificial and poetic Aeolic dialect. The language indicates she was knowledgeable in Homeric poetry—'bearing a pleasant gift', for example, alludes to the use of that phrase throughout the Iliad and Odyssey.[a][2] \n",
    "\"\"\""
   ]
  },
  {
   "attachments": {},
   "cell_type": "markdown",
   "id": "bf0f2330",
   "metadata": {},
   "source": [
    "...and run the summary function:"
   ]
  },
  {
   "cell_type": "code",
   "execution_count": 41,
   "id": "7b0e3b0c",
   "metadata": {},
   "outputs": [
    {
     "name": "stdout",
     "output_type": "stream",
     "text": [
      "A: Demo was a Greek woman of the Roman period, known for a single epigram, engraved upon the Colossus of Memnon, which bears her name. She speaks of herself therein as a lyric poetess dedicated to the Muses, but nothing is known of her life. The poem is traditionally published with the works of Balbilla, though the internal evidence suggests a different author. In the poem, Demo explains that Memnon has shown her special respect. In return, Demo offers the gift for poetry, as a gift to the hero. At the end of this epigram, she addresses Memnon, highlighting his divine status by recalling his strength and holiness. Demo, like Julia Balbilla, writes in the artificial and poetic Aeolic dialect. The language indicates she was knowledgeable in Homeric poetry—'bearing a pleasant gift', for example, alludes to the use of that phrase throughout the Iliad and Odyssey. \n",
      "B: Demo was a Greek woman of the Roman period, known for a single epigram, engraved upon the Colossus of Memnon, which bears her name. She speaks of herself therein as a lyric poetess dedicated to the Muses, but nothing is known of her life. The poem is traditionally published with the works of Balbilla, though the internal evidence suggests a different author. In the poem, Demo explains that Memnon has shown her special respect. In return, Demo offers the gift for poetry, as a gift to the hero. At the end of this epigram, she addresses Memnon, highlighting his divine status by recalling his strength and holiness. Demo, like Julia Balbilla, writes in the artificial and poetic Aeolic dialect. The language indicates she was knowledgeable in Homeric poetry—'bearing a pleasant gift', for example, alludes to the use of that phrase throughout the Iliad and Odyssey. \n",
      "C: Demo was a Greek woman of the Roman period, known for a single epigram, engraved upon the Colossus of Memnon, which bears her name. She speaks of herself therein as a lyric poetess dedicated to the Muses, but nothing is known of her life. The poem is traditionally published with the works of Balbilla, though the internal evidence suggests a different author. In the poem, Demo explains that Memnon has shown her special respect. In return, Demo offers the gift for poetry, as a gift to the hero. At the end of this epigram, she addresses Memnon, highlighting his divine status by recalling his strength and holiness. Demo, like Julia Balbilla, writes in the artificial and poetic Aeolic dialect. The language indicates she was knowledgeable in Homeric poetry—'bearing a pleasant gift', for example, alludes to the use of that phrase throughout the Iliad and Odyssey. \n",
      "D: Demo was a Greek woman of the Roman period, known for a single epigram, engraved upon the Colossus of Memnon, which bears her name. She speaks of herself therein as a lyric poetess dedicated to the Muses, but nothing is known of her life. The poem is traditionally published with the works of Balbilla, though the internal evidence suggests a different author. In the poem, Demo explains that Memnon has shown her special respect. In return, Demo offers the gift for poetry, as a gift to the hero. At the end of this epigram, she addresses Memnon, highlighting his divine status by recalling his strength and holiness. Demo, like Julia Balbilla, writes in the artificial and poetic Aeolic dialect. The language indicates she was knowledgeable in Homeric poetry—'bearing a pleasant gift', for example, alludes to the use of that phrase throughout the Iliad and Odyssey. \n",
      "E: Demo was a Greek woman of the Roman period, known for a single epigram, engraved upon the Colossus of Memnon, which bears her name. She speaks of herself therein as a lyric poetess dedicated to the Muses, but nothing is known of her life. The poem is traditionally published with the works of Balbilla, though the internal evidence suggests a different author. In the poem, Demo explains that Memnon has shown her special respect. In return, Demo offers the gift for poetry, as a gift to the hero. At the end of this epigram, she addresses Memnon, highlighting his divine status by recalling his strength and holiness. Demo, like Julia Balbilla, writes in the artificial and poetic Aeolic dialect. The language indicates she was knowledgeable in Homeric poetry—'bearing a pleasant gift', for example, alludes to the use of that phrase throughout the Iliad and Odyssey. \n",
      "\n",
      "What is the name of the Greek woman known for a single epigram, engraved upon the Colossus of Memnon, which bears her name?\n",
      "A: Julia Balbilla\n",
      "B: Damo\n",
      "C: Demeter\n",
      "D: Demo\n",
      "E: Memnon\n",
      "\n",
      "What does Demo offer to Memnon in her epigram?\n",
      "A: A gift for poetry\n",
      "B: A gift for music\n",
      "C: A gift for art\n",
      "D: A gift for sculpture\n",
      "E: A gift for architecture\n",
      "\n",
      "What does Demo highlight about Memnon in her epigram?\n",
      "A: His divine status\n",
      "B: His human status\n",
      "C: His strength and holiness\n",
      "D: His weakness and sinfulness\n",
      "E: His intelligence and wisdom\n",
      "\n",
      "What language does Demo write in?\n",
      "A: Latin\n",
      "B: Greek\n",
      "C: French\n",
      "D: Spanish\n",
      "E: German\n",
      "\n",
      "What does the phrase 'bearing a pleasant gift' allude to?\n",
      "A: The use of that phrase throughout the Iliad and Odyssey\n",
      "B: The use of that phrase throughout the Aeneid\n",
      "C: The use of that phrase throughout the Divine Comedy\n",
      "D: The use of that phrase throughout the Canterbury Tales\n",
      "E: The use of that phrase throughout the Faerie Queene\n",
      "\n",
      "What is the date of Demo's visit to the Colossus of Memnon?\n",
      "A: c. AD 196\n",
      "B: c. AD 100\n",
      "C: c. AD 300\n",
      "D: c. AD 400\n",
      "E: c. AD 500\n",
      "\n",
      "What is the name of the dialect that Demo writes in?\n",
      "A: Homeric dialect\n",
      "B: Aeolic dialect\n",
      "C: Ionic dialect\n",
      "D: Doric dialect\n",
      "E: Attic dialect\n",
      "\n",
      "What is the meaning of the name Demo?\n",
      "A: A traditional epithet of Demeter\n",
      "B: A traditional epithet of Athena\n",
      "C: A traditional epithet of Apollo\n",
      "D: A traditional epithet of Zeus\n",
      "E: A traditional epithet of Hermes\n",
      "\n",
      "What is the meaning of the name Damo?\n",
      "A: A traditional epithet of Demeter\n",
      "B: A traditional epithet of Athena\n",
      "C: A traditional epithet of Apollo\n",
      "D: A traditional epithet of Zeus\n",
      "E: A traditional epithet of Hermes\n",
      "\n",
      "What is the meaning of the name Demeter?\n",
      "A: The goddess of the harvest\n",
      "B: The goddess of wisdom\n",
      "C: The goddess of love\n",
      "D: The goddess of war\n",
      "E: The goddess of the hunt<|im_end|>\n"
     ]
    }
   ],
   "source": [
    "# If needed, async is available too: summary = await summarize.invoke_async(input_text)\n",
    "summary = summarize(input_text)\n",
    "\n",
    "print(summary)"
   ]
  },
  {
   "attachments": {},
   "cell_type": "markdown",
   "id": "1c2c1262",
   "metadata": {},
   "source": [
    "# Using ChatCompletion for Semantic Skills"
   ]
  },
  {
   "attachments": {},
   "cell_type": "markdown",
   "id": "29b59b28",
   "metadata": {},
   "source": [
    "You can also use chat completion models (like `gpt-35-turbo` and `gpt4`) for creating skills. Normally you would have to tweak the API to accommodate for a system and user role, but SK abstracts that away for you by using `kernel.add_chat_service` and `AzureChatCompletion` or `OpenAIChatCompletion`"
   ]
  },
  {
   "attachments": {},
   "cell_type": "markdown",
   "id": "4777f447",
   "metadata": {},
   "source": [
    "Here's one more example of how to write an inline Semantic Function that gives a TLDR for a piece of text using a ChatCompletion model\n",
    "\n",
    "\n"
   ]
  },
  {
   "cell_type": "code",
   "execution_count": 35,
   "id": "c5886aeb",
   "metadata": {},
   "outputs": [
    {
     "name": "stdout",
     "output_type": "stream",
     "text": [
      "Using Azure OpenAI service\n",
      "Deployment:  gpt35turbo\n",
      "Endpoint:  https://llm-langchain.openai.azure.com/\n"
     ]
    }
   ],
   "source": [
    "import semantic_kernel as sk\n",
    "from semantic_kernel.connectors.ai.open_ai import AzureChatCompletion\n",
    "kernel = sk.Kernel()\n",
    "\n",
    "useAzureOpenAI = True\n",
    "\n",
    "# Configure AI service used by the kernel\n",
    "if useAzureOpenAI:\n",
    "    deployment, api_key, endpoint = sk.azure_openai_settings_from_dot_env()\n",
    "    kernel.add_chat_service(\n",
    "        \"chat_completion\",\n",
    "        AzureChatCompletion(\"gpt35turbo\", endpoint, api_key),\n",
    "    )\n",
    "print(\"Using Azure OpenAI service\")\n",
    "print(\"Deployment: \", deployment)\n",
    "print(\"Endpoint: \", endpoint)"
   ]
  },
  {
   "cell_type": "code",
   "execution_count": 36,
   "id": "ea8128c8",
   "metadata": {},
   "outputs": [
    {
     "name": "stdout",
     "output_type": "stream",
     "text": [
      "Output: Robots must protect humans.\n"
     ]
    }
   ],
   "source": [
    "sk_prompt = \"\"\"\n",
    "{{$input}}\n",
    "\n",
    "Give me the TLDR in 5 words or less.\n",
    "\"\"\"\n",
    "\n",
    "text = \"\"\"\n",
    "    1) A robot may not injure a human being or, through inaction,\n",
    "    allow a human being to come to harm.\n",
    "\n",
    "    2) A robot must obey orders given it by human beings except where\n",
    "    such orders would conflict with the First Law.\n",
    "\n",
    "    3) A robot must protect its own existence as long as such protection\n",
    "    does not conflict with the First or Second Law.\n",
    "\"\"\"\n",
    "\n",
    "tldr_function = kernel.create_semantic_function(sk_prompt, max_tokens=300, temperature=0, top_p=0.5)\n",
    "\n",
    "summary = tldr_function(text)\n",
    "\n",
    "print(f\"Output: {summary}\") # Output: Robots must not harm humans."
   ]
  }
 ],
 "metadata": {
  "kernelspec": {
   "display_name": "Python 3 (ipykernel)",
   "language": "python",
   "name": "python3"
  },
  "language_info": {
   "codemirror_mode": {
    "name": "ipython",
    "version": 3
   },
   "file_extension": ".py",
   "mimetype": "text/x-python",
   "name": "python",
   "nbconvert_exporter": "python",
   "pygments_lexer": "ipython3",
   "version": "3.11.2"
  }
 },
 "nbformat": 4,
 "nbformat_minor": 5
}
